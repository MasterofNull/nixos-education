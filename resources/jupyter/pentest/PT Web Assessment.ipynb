{
 "cells": [
  {
   "cell_type": "markdown",
   "id": "eca86b33",
   "metadata": {
    "tags": [
     "raises-exception"
    ]
   },
   "source": [
    "# Web Assessment\n",
    "- Author: Aidan Marlin\n",
    "- Date: 20221005\n",
    "- Version: 1.15\n",
    "- Description: Jupyter Notebook to automate the execution of web scans"
   ]
  },
  {
   "cell_type": "code",
   "execution_count": null,
   "id": "5b06862e",
   "metadata": {
    "tags": [
     "raises-exception"
    ]
   },
   "outputs": [],
   "source": [
    "target = \"www.bing.com\"\n",
    "top_target = \"bing.com\"\n",
    "ffuf_subdomain_target = \"FUZZ.bing.com\"\n",
    "keyword = \"microsoft\"\n",
    "### Target is considered HTTPS by default, set True here if HTTP\n",
    "target_http = False\n",
    "### Change port if necessary\n",
    "port = 443\n",
    "### Set to 0 if scanning a subdomain\n",
    "subdomain_recon = 1\n",
    "### Cookie for target\n",
    "### Example: \"my_cookie=my_value; Path=/, other_cookie=other_value; Path=/test\"\n",
    "cookies = \"test=test\"\n",
    "\n",
    "###\n",
    "### No need to modify from here\n",
    "###\n",
    "import socket\n",
    "import subprocess\n",
    "import os\n",
    "\n",
    "# URL is HTTP or HTTPS?\n",
    "target_scheme = None\n",
    "\n",
    "if target_http == True:\n",
    "    print(\"HTTP site\")\n",
    "    target_http = True\n",
    "    target_https = False\n",
    "    target_scheme = \"http://\"\n",
    "    target_url = \"http://\" + target + \":\" + str(port) + \"/\"\n",
    "else:\n",
    "    print(\"HTTPS site\")\n",
    "    target_http = False\n",
    "    target_https = True\n",
    "    target_scheme = \"https://\"\n",
    "    target_url = \"https://\" + target + \":\" + str(port) + \"/\"\n",
    "\n",
    "os.environ[\"PATH\"] = os.environ[\"PATH\"] + \":/run/current-system/sw/bin\"\n",
    "\n",
    "target_ip = socket.gethostbyname(target) \n",
    "ffuf_subdomain_target_https = \"https://\" + ffuf_subdomain_target\n",
    "ffuf_subdomain_target_http = \"http://\" + ffuf_subdomain_target\n",
    "ffuf_directory_brute = target + \":\" + str(port) + \"/FUZZ\"\n",
    "http_target = \"http://\" + target\n",
    "https_target = \"https://\" + target\n",
    "\n",
    "!mkdir -p tools/amass\n",
    "!mkdir -p tools/arachni\n",
    "!mkdir -p tools/ctfr\n",
    "!mkdir -p tools/ffuf_subdomain\n",
    "!mkdir -p tools/ffuf_directory\n",
    "!mkdir -p tools/finalrecon\n",
    "!mkdir -p tools/gospider\n",
    "!mkdir -p tools/hakrawler\n",
    "!mkdir -p tools/knockpy\n",
    "!mkdir -p tools/nettacker\n",
    "!mkdir -p tools/nikto\n",
    "!mkdir -p tools/photon\n",
    "!mkdir -p tools/puppeteer\n",
    "!mkdir -p tools/puredns\n",
    "!mkdir -p tools/subfinder\n",
    "!mkdir -p tools/sn1per\n",
    "!mkdir -p tools/sudomy\n",
    "!mkdir -p tools/testssl\n",
    "!mkdir -p tools/theharvester\n",
    "\n",
    "!echo \"1.1.1.1\" > \"`pwd`/tools/resolver.txt\"\n",
    "\n",
    "def read_file(location):\n",
    "    try:\n",
    "        with open(location) as f:\n",
    "            text = f.read()\n",
    "            return text\n",
    "    except:\n",
    "        return False\n",
    "\n",
    "!pwd\n"
   ]
  },
  {
   "cell_type": "markdown",
   "id": "5b05b273",
   "metadata": {
    "tags": [
     "raises-exception"
    ]
   },
   "source": [
    "# Target"
   ]
  },
  {
   "cell_type": "code",
   "execution_count": null,
   "id": "d085f9e6",
   "metadata": {
    "tags": [
     "raises-exception"
    ]
   },
   "outputs": [],
   "source": [
    "print(target)\n",
    "print(target_ip)\n",
    "print(target_url)\n"
   ]
  },
  {
   "cell_type": "markdown",
   "id": "738fdd63",
   "metadata": {
    "tags": [
     "raises-exception"
    ]
   },
   "source": [
    "## Whois"
   ]
  },
  {
   "cell_type": "code",
   "execution_count": null,
   "id": "c1cc7050",
   "metadata": {
    "tags": [
     "raises-exception"
    ]
   },
   "outputs": [],
   "source": [
    "!dig {target}\n"
   ]
  },
  {
   "cell_type": "markdown",
   "id": "db3a3b53",
   "metadata": {
    "tags": [
     "raises-exception"
    ]
   },
   "source": [
    "# Pentester Details"
   ]
  },
  {
   "cell_type": "markdown",
   "id": "b78ed5e0",
   "metadata": {
    "tags": [
     "raises-exception"
    ]
   },
   "source": [
    "## IP Address"
   ]
  },
  {
   "cell_type": "code",
   "execution_count": null,
   "id": "319062ed",
   "metadata": {
    "tags": [
     "raises-exception"
    ]
   },
   "outputs": [],
   "source": [
    "!curl https://ifconfig.me/\n"
   ]
  },
  {
   "cell_type": "markdown",
   "id": "dd1d9f0a",
   "metadata": {
    "tags": [
     "raises-exception"
    ]
   },
   "source": [
    "## Start Time"
   ]
  },
  {
   "cell_type": "code",
   "execution_count": null,
   "id": "6b46d6fb",
   "metadata": {
    "tags": [
     "raises-exception"
    ]
   },
   "outputs": [],
   "source": [
    "!date\n"
   ]
  },
  {
   "cell_type": "markdown",
   "id": "df6dc4e3",
   "metadata": {
    "tags": [
     "raises-exception"
    ]
   },
   "source": [
    "## Interface Info"
   ]
  },
  {
   "cell_type": "code",
   "execution_count": null,
   "id": "92ffd624",
   "metadata": {
    "tags": [
     "raises-exception"
    ]
   },
   "outputs": [],
   "source": [
    "!ip a\n"
   ]
  },
  {
   "cell_type": "markdown",
   "id": "b261f854",
   "metadata": {
    "tags": [
     "raises-exception"
    ]
   },
   "source": [
    "# Scans"
   ]
  },
  {
   "cell_type": "markdown",
   "id": "0d02df13",
   "metadata": {
    "tags": [
     "raises-exception"
    ]
   },
   "source": [
    "## spk"
   ]
  },
  {
   "cell_type": "code",
   "execution_count": null,
   "id": "4a82e3ce",
   "metadata": {
    "tags": [
     "raises-exception"
    ]
   },
   "outputs": [],
   "source": [
    "!time docker run -it --rm redgo spk -silent -s \"$keyword\"\n"
   ]
  },
  {
   "cell_type": "markdown",
   "id": "b0c3285c",
   "metadata": {
    "tags": [
     "raises-exception"
    ]
   },
   "source": [
    "## metabigor"
   ]
  },
  {
   "cell_type": "code",
   "execution_count": null,
   "id": "6a76ca55",
   "metadata": {
    "tags": [
     "raises-exception"
    ]
   },
   "outputs": [],
   "source": [
    "!time docker run --rm redgo /bin/bash -c \"echo $keyword | metabigor net --org\"\n"
   ]
  },
  {
   "cell_type": "markdown",
   "id": "116de393",
   "metadata": {
    "tags": [
     "raises-exception"
    ]
   },
   "source": [
    "## HTTP Headers"
   ]
  },
  {
   "cell_type": "code",
   "execution_count": null,
   "id": "32a112e6",
   "metadata": {
    "tags": [
     "raises-exception"
    ]
   },
   "outputs": [],
   "source": [
    "%%bash -s \"$target_url\"\n",
    "time curl -k -s --connect-timeout 10 -I $1\n"
   ]
  },
  {
   "cell_type": "markdown",
   "id": "c0bfe75c",
   "metadata": {
    "tags": [
     "raises-exception"
    ]
   },
   "source": [
    "## shcheck"
   ]
  },
  {
   "cell_type": "code",
   "execution_count": null,
   "id": "9dc3fcb2",
   "metadata": {
    "tags": [
     "raises-exception"
    ]
   },
   "outputs": [],
   "source": [
    "!time docker run --rm shcheck -d {target_url}\n"
   ]
  },
  {
   "cell_type": "markdown",
   "id": "c5b28351",
   "metadata": {
    "tags": [
     "raises-exception"
    ]
   },
   "source": [
    "## DrHeader"
   ]
  },
  {
   "cell_type": "code",
   "execution_count": null,
   "id": "713ed1c6",
   "metadata": {
    "tags": [
     "raises-exception"
    ]
   },
   "outputs": [],
   "source": [
    "!time docker run --entrypoint drheader --rm drheader scan --verify False single {target_url}\n"
   ]
  },
  {
   "cell_type": "markdown",
   "id": "b0e619d7",
   "metadata": {
    "tags": [
     "raises-exception"
    ]
   },
   "source": [
    "## ctfr"
   ]
  },
  {
   "cell_type": "code",
   "execution_count": null,
   "id": "32fe500d",
   "metadata": {
    "tags": [
     "raises-exception"
    ]
   },
   "outputs": [],
   "source": [
    "!time docker run --rm -v \"`pwd`/tools/ctfr/:/mnt\" unapibageek/ctfr -d $top_target -o /mnt/results.txt\n"
   ]
  },
  {
   "cell_type": "markdown",
   "id": "3edefb1e",
   "metadata": {
    "tags": [
     "raises-exception"
    ]
   },
   "source": [
    "## Corsy"
   ]
  },
  {
   "cell_type": "code",
   "execution_count": null,
   "id": "7cc53945",
   "metadata": {
    "tags": [
     "raises-exception"
    ]
   },
   "outputs": [],
   "source": [
    "!time python \"/home/user/git/pentest-tools/Corsy/corsy.py\" -u {target_url}\n"
   ]
  },
  {
   "cell_type": "markdown",
   "id": "de18736b",
   "metadata": {
    "tags": [
     "raises-exception"
    ]
   },
   "source": [
    "## waybackpy"
   ]
  },
  {
   "cell_type": "code",
   "execution_count": null,
   "id": "d39ff058",
   "metadata": {
    "tags": [
     "raises-exception"
    ]
   },
   "outputs": [],
   "source": [
    "!time docker run --rm secsi/waybackpy --url {target} --oldest\n"
   ]
  },
  {
   "cell_type": "markdown",
   "id": "177c28af",
   "metadata": {
    "tags": [
     "raises-exception"
    ]
   },
   "source": [
    "## getjs"
   ]
  },
  {
   "cell_type": "code",
   "execution_count": null,
   "id": "08de3e89",
   "metadata": {
    "tags": [
     "raises-exception"
    ]
   },
   "outputs": [],
   "source": [
    "!time docker run --rm secsi/getjs --insecure --url {target_url}\n"
   ]
  },
  {
   "cell_type": "markdown",
   "id": "655068d7",
   "metadata": {
    "tags": [
     "raises-exception"
    ]
   },
   "source": [
    "## httpx"
   ]
  },
  {
   "cell_type": "code",
   "execution_count": null,
   "id": "745a2943",
   "metadata": {
    "tags": [
     "raises-exception"
    ]
   },
   "outputs": [],
   "source": [
    "!time echo {target}:{port} | httpx -silent -status-code -title -tech-detect -ip -asn\n"
   ]
  },
  {
   "cell_type": "markdown",
   "id": "d88dcb95",
   "metadata": {
    "tags": [
     "raises-exception"
    ]
   },
   "source": [
    "## Gospider"
   ]
  },
  {
   "cell_type": "code",
   "execution_count": null,
   "id": "90675047",
   "metadata": {
    "tags": [
     "raises-exception"
    ]
   },
   "outputs": [],
   "source": [
    "%%bash -s \"$target_url\" \"$cookies\"\n",
    "time docker run -v \"`pwd`/tools/gospider:/mnt\" --rm secsi/gospider -o /mnt/ --cookie \"$2\" -s $1\n"
   ]
  },
  {
   "cell_type": "markdown",
   "id": "2e96140d",
   "metadata": {
    "tags": [
     "raises-exception"
    ]
   },
   "source": [
    "## CMSeek"
   ]
  },
  {
   "cell_type": "code",
   "execution_count": null,
   "id": "d76fdff9",
   "metadata": {
    "tags": [
     "raises-exception"
    ]
   },
   "outputs": [],
   "source": [
    "!time docker run --rm secsi/cmseek --batch -u {target_url}\n"
   ]
  },
  {
   "cell_type": "markdown",
   "id": "bc0ec38d",
   "metadata": {
    "tags": [
     "raises-exception"
    ]
   },
   "source": [
    "## WhatWeb"
   ]
  },
  {
   "cell_type": "code",
   "execution_count": null,
   "id": "151bff5a",
   "metadata": {
    "tags": [
     "raises-exception"
    ]
   },
   "outputs": [],
   "source": [
    "%%bash -s \"$target_url\"\n",
    "time docker run --rm guidelacour/whatweb ./whatweb $1 | sed -r \"s/\\x1B\\[([0-9]{1,3}(;[0-9]{1,2})?)?[mGK]//g\"\n"
   ]
  },
  {
   "cell_type": "markdown",
   "id": "af3ae498",
   "metadata": {
    "tags": [
     "raises-exception"
    ]
   },
   "source": [
    "## hakrawler"
   ]
  },
  {
   "cell_type": "code",
   "execution_count": null,
   "id": "5017cccf",
   "metadata": {
    "tags": [
     "raises-exception"
    ]
   },
   "outputs": [],
   "source": [
    "!time echo {target_url} | hakrawler -insecure | sort | uniq > \"`pwd`/tools/hakrawler/results.txt\"\n",
    "!cat \"`pwd`/tools/hakrawler/results.txt\"\n"
   ]
  },
  {
   "cell_type": "markdown",
   "id": "1c2dde43",
   "metadata": {
    "tags": [
     "raises-exception"
    ]
   },
   "source": [
    "## Subfinder"
   ]
  },
  {
   "cell_type": "code",
   "execution_count": null,
   "id": "d8c99c4f",
   "metadata": {
    "tags": [
     "raises-exception"
    ]
   },
   "outputs": [],
   "source": [
    "%%bash -s \"$subdomain_recon\" \"$top_target\"\n",
    "if [[ \"$1\" == \"1\" ]]; then\n",
    "    # Scan\n",
    "    time subfinder -d $2 -silent -active -oI -oJ -o tools/subfinder/results.txt 2>&1 >/dev/null\n",
    "    # Output\n",
    "    cat tools/subfinder/results.txt | jq -r '\"Domain:  \\(.host)\\nIP addr: \\(.ip)\\n\"'\n",
    "else\n",
    "    echo \"Subdomain scans have been disabled.\"\n",
    "fi\n"
   ]
  },
  {
   "cell_type": "markdown",
   "id": "b58b8ab2",
   "metadata": {
    "tags": [
     "raises-exception"
    ]
   },
   "source": [
    "## Backup File Artifacts Checker"
   ]
  },
  {
   "cell_type": "code",
   "execution_count": null,
   "id": "f6abdfbd",
   "metadata": {
    "tags": [
     "raises-exception"
    ]
   },
   "outputs": [],
   "source": [
    "!time docker run --rm secsi/bfac --no-text --url {target_url}\n"
   ]
  },
  {
   "cell_type": "markdown",
   "id": "11e5cefa",
   "metadata": {
    "tags": [
     "raises-exception"
    ]
   },
   "source": [
    "## cariddi"
   ]
  },
  {
   "cell_type": "code",
   "execution_count": null,
   "id": "0fff1d81",
   "metadata": {
    "tags": [
     "raises-exception"
    ]
   },
   "outputs": [],
   "source": [
    "%%bash -s \"$target_url\" \"$cookies\"\n",
    "COOKIE_MOD=`echo $2 | sed 's/=/:/g'`\n",
    "echo $1 | cariddi -headers \"Cookie: $COOKIE_MOD\" -e -s -info -err\n"
   ]
  },
  {
   "cell_type": "markdown",
   "id": "204a41c0",
   "metadata": {
    "tags": [
     "raises-exception"
    ]
   },
   "source": [
    "## Screenshot"
   ]
  },
  {
   "cell_type": "code",
   "execution_count": null,
   "id": "c95230df",
   "metadata": {
    "tags": [
     "raises-exception"
    ]
   },
   "outputs": [],
   "source": [
    "import shutil\n",
    "from pathlib import Path\n",
    "home = str(Path.home())\n",
    "\n",
    "os.system(\"docker run -u root --shm-size 1G --rm -v \\\"\" + os.getcwd() + \"/tools/puppeteer:/screenshots\\\" alekzonder/puppeteer:latest screenshot \" + target_url + \" 1024x768\")\n",
    "if not os.path.isfile(\"tools/puppeteer/screenshot_1024_768.png\"):\n",
    "    shutil.copyfile(home + \"/git/maxos/resources/404.png\", \"tools/puppeteer/screenshot_1024_768.png\")\n"
   ]
  },
  {
   "cell_type": "markdown",
   "id": "df11a3c5",
   "metadata": {
    "tags": [
     "raises-exception"
    ]
   },
   "source": [
    "![Target screenshot](tools/puppeteer/screenshot_1024_768.png)\n"
   ]
  },
  {
   "cell_type": "markdown",
   "id": "da2b3fa6",
   "metadata": {
    "tags": [
     "raises-exception"
    ]
   },
   "source": [
    "## Email Enumeration"
   ]
  },
  {
   "cell_type": "code",
   "execution_count": null,
   "id": "143bb8df",
   "metadata": {
    "tags": [
     "raises-exception"
    ]
   },
   "outputs": [],
   "source": [
    "%%bash -s \"$subdomain_recon\" \"$top_target\"\n",
    "if [[ \"$1\" == \"1\" ]]; then\n",
    "    time docker run --rm infoga --domain $2 --source all --breach -v 2\n",
    "else\n",
    "    echo \"Email enumeration disabled.\"\n",
    "fi\n"
   ]
  },
  {
   "cell_type": "markdown",
   "id": "1e834531",
   "metadata": {
    "tags": [
     "raises-exception"
    ]
   },
   "source": [
    "## amass"
   ]
  },
  {
   "cell_type": "code",
   "execution_count": null,
   "id": "68b98133",
   "metadata": {
    "tags": [
     "raises-exception"
    ]
   },
   "outputs": [],
   "source": [
    "%%bash -s \"$subdomain_recon\" \"$top_target\" \"$port\"\n",
    "if [[ \"$1\" == \"1\" ]]; then\n",
    "    time amass enum -silent -nocolor -active -json tools/amass/results.txt -d $2 -p $3\n",
    "    cat tools/amass/results.txt | jq -r '\"##### \\(.name)\\nIP addr: \\(.addresses|.[].ip)\\nCIDR: \\(.addresses|.[].cidr)\\nASN: \\(.addresses|.[].asn)\\nDesc: \\(.addresses|.[].desc)\\n\"'\n",
    "else\n",
    "    echo \"DNS enumeration disabled\"\n",
    "fi\n"
   ]
  },
  {
   "cell_type": "markdown",
   "id": "f82dc603",
   "metadata": {
    "tags": [
     "raises-exception"
    ]
   },
   "source": [
    "## ffuf (subdomains)"
   ]
  },
  {
   "cell_type": "code",
   "execution_count": null,
   "id": "c755d6d7",
   "metadata": {
    "tags": [
     "raises-exception"
    ]
   },
   "outputs": [],
   "source": [
    "%%bash -s \"$subdomain_recon\" \"$ffuf_subdomain_target\"\n",
    "\n",
    "if [[ \"$1\" == \"1\" ]]; then\n",
    "    echo {target_scheme}$2\n",
    "    # Scan\n",
    "    time ffuf -s -of all -w /home/user/git/wordlists/SecLists/Discovery/DNS/subdomains-top1million-5000.txt -u {target_scheme}$2 -od tools/ffuf_subdomain\n",
    "    echo \"`find tools/ffuf_subdomain -type f | wc -l` responses worth investigating..\"\n",
    "else\n",
    "    echo \"Subdomain scans have been disabled.\"\n",
    "fi\n"
   ]
  },
  {
   "cell_type": "markdown",
   "id": "f45290d6",
   "metadata": {
    "tags": [
     "raises-exception"
    ]
   },
   "source": [
    "## Knockpy"
   ]
  },
  {
   "cell_type": "code",
   "execution_count": null,
   "id": "e3b78039",
   "metadata": {
    "tags": [
     "raises-exception"
    ]
   },
   "outputs": [],
   "source": [
    "%%bash -s \"$subdomain_recon\" \"$top_target\"\n",
    "\n",
    "if [[ \"$1\" == \"1\" ]]; then\n",
    "    time docker run --rm -v \"`pwd`/tools/knockpy:/mnt/\" secsi/knockpy -o /mnt $2 2>&1 > /dev/null\n",
    "    find tools/knockpy -type f -exec cat {} \\;\n",
    "else\n",
    "    echo \"Subdomain scans have been disabled.\"\n",
    "fi\n"
   ]
  },
  {
   "cell_type": "markdown",
   "id": "8a98953f",
   "metadata": {
    "tags": [
     "raises-exception"
    ]
   },
   "source": [
    "## Sudomy"
   ]
  },
  {
   "cell_type": "code",
   "execution_count": null,
   "id": "adfa1c95",
   "metadata": {
    "tags": [
     "raises-exception"
    ]
   },
   "outputs": [],
   "source": [
    "%%bash -s \"$subdomain_recon\" \"$top_target\"\n",
    "\n",
    "API_SHODAN=`cat /etc/api-shodan`\n",
    "API_VIRUSTOTAL=`cat /etc/api-virustotal`\n",
    "\n",
    "if [[ \"$1\" == \"1\" ]]; then\n",
    "    time docker run -v \"`pwd`/tools/sudomy:/usr/lib/sudomy/output\" -e \"SHODAN_API=$API_SHODAN\" -e \"VIRUSTOTAL=$API_VIRUSTOTAL\" -t --rm screetsec/sudomy:v1.1.9-dev -d $2 -dP -eP -rS -cF -pS -tO -gW --httpx --dnsprobe  -aI webanalyze --slack -sS\n",
    "else\n",
    "    echo \"Subdomain scans have been disabled.\"\n",
    "fi\n"
   ]
  },
  {
   "cell_type": "code",
   "execution_count": null,
   "id": "525e1e34",
   "metadata": {
    "tags": [
     "raises-exception"
    ]
   },
   "outputs": [],
   "source": [
    "!fd --full-path \"`pwd`/tools/sudomy\" --type f --extension lst --extension txt --extension out --size +0b --exec echo -e \"\\n\\n###\\n### {}\\n###\\n\" \\; --exec cat {}\n"
   ]
  },
  {
   "cell_type": "markdown",
   "id": "fd1291f5",
   "metadata": {
    "tags": [
     "raises-exception"
    ]
   },
   "source": [
    "## photon"
   ]
  },
  {
   "cell_type": "code",
   "execution_count": null,
   "id": "34cea7d3",
   "metadata": {
    "tags": [
     "raises-exception"
    ]
   },
   "outputs": [],
   "source": [
    "!time photon -c \"{cookies}\" --keys -u {target_url} -l 3 -t 100 --wayback -o tools/photon/{target}\n"
   ]
  },
  {
   "cell_type": "markdown",
   "id": "8c3169ba",
   "metadata": {
    "tags": [
     "raises-exception"
    ]
   },
   "source": [
    "### files.txt"
   ]
  },
  {
   "cell_type": "code",
   "execution_count": null,
   "id": "fd1a5fa6",
   "metadata": {
    "tags": [
     "raises-exception"
    ]
   },
   "outputs": [],
   "source": [
    "print(read_file(\"tools/photon/\" + target + \"/files.txt\"))\n"
   ]
  },
  {
   "cell_type": "markdown",
   "id": "ac01db1e",
   "metadata": {
    "tags": [
     "raises-exception"
    ]
   },
   "source": [
    "### fuzzable.txt"
   ]
  },
  {
   "cell_type": "code",
   "execution_count": null,
   "id": "c9adc2fd",
   "metadata": {
    "tags": [
     "raises-exception"
    ]
   },
   "outputs": [],
   "source": [
    "print(read_file(\"tools/photon/\" + target + \"/fuzzable.txt\"))\n"
   ]
  },
  {
   "cell_type": "markdown",
   "id": "943758c2",
   "metadata": {
    "tags": [
     "raises-exception"
    ]
   },
   "source": [
    "### intel.txt"
   ]
  },
  {
   "cell_type": "code",
   "execution_count": null,
   "id": "ac981a1b",
   "metadata": {
    "tags": [
     "raises-exception"
    ]
   },
   "outputs": [],
   "source": [
    "print(read_file(\"tools/photon/\" + target + \"/intel.txt\"))\n"
   ]
  },
  {
   "cell_type": "markdown",
   "id": "85edd93c",
   "metadata": {
    "tags": [
     "raises-exception"
    ]
   },
   "source": [
    "### scripts.txt"
   ]
  },
  {
   "cell_type": "code",
   "execution_count": null,
   "id": "9a02a6a6",
   "metadata": {
    "tags": [
     "raises-exception"
    ]
   },
   "outputs": [],
   "source": [
    "print(read_file(\"tools/photon/\" + target + \"/scripts.txt\"))\n"
   ]
  },
  {
   "cell_type": "markdown",
   "id": "8a354de7",
   "metadata": {
    "tags": [
     "raises-exception"
    ]
   },
   "source": [
    "### external.txt"
   ]
  },
  {
   "cell_type": "code",
   "execution_count": null,
   "id": "4c5105f5",
   "metadata": {
    "scrolled": false
   },
   "outputs": [],
   "source": [
    "!time cat tools/photon/{target}/external.txt | httpx -silent -status-code -location -title -tech-detect -cl -ct -fc 401,403,404\n"
   ]
  },
  {
   "cell_type": "markdown",
   "id": "d1f710c2",
   "metadata": {
    "tags": [
     "raises-exception"
    ]
   },
   "source": [
    "### internal.txt"
   ]
  },
  {
   "cell_type": "code",
   "execution_count": null,
   "id": "a9701e49",
   "metadata": {
    "scrolled": true
   },
   "outputs": [],
   "source": [
    "!time cat tools/photon/{target}/internal.txt | httpx -silent -status-code -location -title -tech-detect -cl -ct -fc 401,403,404\n"
   ]
  },
  {
   "cell_type": "markdown",
   "id": "1268d3ab",
   "metadata": {
    "tags": [
     "raises-exception"
    ]
   },
   "source": [
    "## puredns"
   ]
  },
  {
   "cell_type": "code",
   "execution_count": null,
   "id": "ed68bebf",
   "metadata": {
    "tags": [
     "raises-exception"
    ]
   },
   "outputs": [],
   "source": [
    "!time docker run -it -v /home/user/wordlists/SecLists/Discovery/DNS:/mnt -v \"`pwd`:/current\" --rm secsi/puredns bruteforce /mnt/namelist.txt bir.ao --resolvers /current/tools/resolver.txt -q > \"`pwd`/tools/puredns/results.txt\"\n"
   ]
  },
  {
   "cell_type": "code",
   "execution_count": null,
   "id": "6a1a4951",
   "metadata": {
    "tags": [
     "raises-exception"
    ]
   },
   "outputs": [],
   "source": [
    "!cat \"`pwd`/tools/puredns/results.txt\"\n"
   ]
  },
  {
   "cell_type": "markdown",
   "id": "ec723313",
   "metadata": {
    "tags": [
     "raises-exception"
    ]
   },
   "source": [
    "## is-website-vulnerable"
   ]
  },
  {
   "cell_type": "code",
   "execution_count": null,
   "id": "5ac7a1e9",
   "metadata": {
    "tags": [
     "raises-exception"
    ]
   },
   "outputs": [],
   "source": [
    "!time docker run --rm lirantal/is-website-vulnerable:latest {target_url} --cookie \"{cookies}\"\n"
   ]
  },
  {
   "cell_type": "markdown",
   "id": "79c7b379",
   "metadata": {
    "tags": [
     "raises-exception"
    ]
   },
   "source": [
    "## dvcs-ripper"
   ]
  },
  {
   "cell_type": "code",
   "execution_count": null,
   "id": "427e10b0",
   "metadata": {
    "tags": [
     "raises-exception"
    ]
   },
   "outputs": [],
   "source": [
    "!time docker run --rm secsi/dvcs-ripper ./rip-svn.pl -u {target_url}\n"
   ]
  },
  {
   "cell_type": "code",
   "execution_count": null,
   "id": "0c956cfa",
   "metadata": {
    "tags": [
     "raises-exception"
    ]
   },
   "outputs": [],
   "source": [
    "!time docker run --rm secsi/dvcs-ripper ./rip-cvs.pl -u {target_url}\n"
   ]
  },
  {
   "cell_type": "code",
   "execution_count": null,
   "id": "879a602d",
   "metadata": {
    "tags": [
     "raises-exception"
    ]
   },
   "outputs": [],
   "source": [
    "!time docker run --rm secsi/dvcs-ripper ./rip-bzr.pl -u {target_url}\n"
   ]
  },
  {
   "cell_type": "code",
   "execution_count": null,
   "id": "651ef2bf",
   "metadata": {
    "tags": [
     "raises-exception"
    ]
   },
   "outputs": [],
   "source": [
    "!time docker run --rm secsi/dvcs-ripper ./rip-hg.pl -u {target_url}\n"
   ]
  },
  {
   "cell_type": "code",
   "execution_count": null,
   "id": "1c1ca878",
   "metadata": {
    "tags": [
     "raises-exception"
    ]
   },
   "outputs": [],
   "source": [
    "!time docker run --rm secsi/dvcs-ripper ./rip-git.pl -u {target_url}\n"
   ]
  },
  {
   "cell_type": "markdown",
   "id": "dcd66497",
   "metadata": {
    "tags": [
     "raises-exception"
    ]
   },
   "source": [
    "## vulnx.py"
   ]
  },
  {
   "cell_type": "code",
   "execution_count": null,
   "id": "c8fd09f8",
   "metadata": {
    "tags": [
     "raises-exception"
    ]
   },
   "outputs": [],
   "source": [
    "!time docker run -it --rm --name vulnx vulnx:latest -e -l all -w -d --dns -u {target_url}\n"
   ]
  },
  {
   "cell_type": "markdown",
   "id": "f6eca298",
   "metadata": {
    "tags": [
     "raises-exception"
    ]
   },
   "source": [
    "## Dirhunt"
   ]
  },
  {
   "cell_type": "code",
   "execution_count": null,
   "id": "142f384b",
   "metadata": {
    "tags": [
     "raises-exception"
    ]
   },
   "outputs": [],
   "source": [
    "%%bash -s \"$target_url\" \"$cookies\"\n",
    "COOKIE_MOD=`echo $2 | sed 's/=/:/g'`\n",
    "time docker run --rm secsi/dirhunt -x not_found -c \"$COOKIE_MOD\" --progress-disabled $1 | grep -Ev \"No interesting files detected\"\n"
   ]
  },
  {
   "cell_type": "markdown",
   "id": "a7b46010",
   "metadata": {
    "tags": [
     "raises-exception"
    ]
   },
   "source": [
    "## theHarvester"
   ]
  },
  {
   "cell_type": "code",
   "execution_count": null,
   "id": "c0872fa4",
   "metadata": {
    "scrolled": true
   },
   "outputs": [],
   "source": [
    "!time docker run --rm -v \"`pwd`/tools/theharvester:/mnt\" simonthomas/theharvester:latest theharvester -d $top_target -b all -f /mnt/results.html\n"
   ]
  },
  {
   "cell_type": "markdown",
   "id": "ec13eae5",
   "metadata": {
    "tags": [
     "raises-exception"
    ]
   },
   "source": [
    "## dnscan"
   ]
  },
  {
   "cell_type": "code",
   "execution_count": null,
   "id": "2a965c95",
   "metadata": {
    "tags": [
     "raises-exception"
    ]
   },
   "outputs": [],
   "source": [
    "%%bash -s \"$subdomain_recon\" \"$target\"\n",
    "\n",
    "if [[ \"$1\" == \"1\" ]]; then\n",
    "    time docker run --rm secsi/dnscan -d $2 -w subdomains-10000.txt -t 10 -R 1.0.0.1\n",
    "else\n",
    "    echo \"Subdomain scans have been disabled.\"\n",
    "fi\n"
   ]
  },
  {
   "cell_type": "markdown",
   "id": "363acc1f",
   "metadata": {
    "tags": [
     "raises-exception"
    ]
   },
   "source": [
    "## fierce"
   ]
  },
  {
   "cell_type": "code",
   "execution_count": null,
   "id": "cea5b94e",
   "metadata": {
    "tags": [
     "raises-exception"
    ]
   },
   "outputs": [],
   "source": [
    "!time docker run --rm secsi/fierce --domain {target}\n"
   ]
  },
  {
   "cell_type": "markdown",
   "id": "b27572ad",
   "metadata": {
    "tags": [
     "raises-exception"
    ]
   },
   "source": [
    "## dnstwist"
   ]
  },
  {
   "cell_type": "code",
   "execution_count": null,
   "id": "e4dad26a",
   "metadata": {
    "tags": [
     "raises-exception"
    ]
   },
   "outputs": [],
   "source": [
    "!time docker run --rm elceef/dnstwist {target}\n"
   ]
  },
  {
   "cell_type": "markdown",
   "id": "a1aeee1b",
   "metadata": {
    "tags": [
     "raises-exception"
    ]
   },
   "source": [
    "## CloudFail"
   ]
  },
  {
   "cell_type": "code",
   "execution_count": null,
   "id": "c1b4cbae",
   "metadata": {
    "tags": [
     "raises-exception"
    ]
   },
   "outputs": [],
   "source": [
    "!time docker run --rm secsi/cloudfail -u -t {target}\n"
   ]
  },
  {
   "cell_type": "markdown",
   "id": "567dc38d",
   "metadata": {
    "tags": [
     "raises-exception"
    ]
   },
   "source": [
    "## sns"
   ]
  },
  {
   "cell_type": "code",
   "execution_count": null,
   "id": "f46f1893",
   "metadata": {
    "tags": [
     "raises-exception"
    ]
   },
   "outputs": [],
   "source": [
    "!time docker run -it --rm redgo sns --check -u {target_url}\n"
   ]
  },
  {
   "cell_type": "markdown",
   "id": "835361b4",
   "metadata": {
    "tags": [
     "raises-exception"
    ]
   },
   "source": [
    "## Nuclei"
   ]
  },
  {
   "cell_type": "code",
   "execution_count": null,
   "id": "8c300b96",
   "metadata": {
    "tags": [
     "raises-exception"
    ]
   },
   "outputs": [],
   "source": [
    "!time docker run --rm -v \"`pwd`:/mnt\" projectdiscovery/nuclei -H \"Cookie:{cookies}\" -u {target_url}\n"
   ]
  },
  {
   "cell_type": "markdown",
   "id": "b3e99455",
   "metadata": {
    "tags": [
     "raises-exception"
    ]
   },
   "source": [
    "## TLS Scan"
   ]
  },
  {
   "cell_type": "code",
   "execution_count": null,
   "id": "02b96c64",
   "metadata": {
    "tags": [
     "raises-exception"
    ]
   },
   "outputs": [],
   "source": [
    "%%bash -s \"$target_https\" \"$target\" \"$port\"\n",
    "\n",
    "if [[ \"$1\" == \"True\" ]]; then\n",
    "    time testssl.sh -oA tools/testssl $2:$3\n",
    "fi\n"
   ]
  },
  {
   "cell_type": "markdown",
   "id": "83213c93",
   "metadata": {
    "tags": [
     "raises-exception"
    ]
   },
   "source": [
    "## Raccoon"
   ]
  },
  {
   "cell_type": "code",
   "execution_count": null,
   "id": "9805a2e7",
   "metadata": {
    "tags": [
     "raises-exception"
    ]
   },
   "outputs": [],
   "source": [
    "%%bash -s \"$target_url\" \"$cookies\"\n",
    "COOKIE_MOD=`echo $2 | sed 's/=/:/g'`\n",
    "time docker run --rm evyatarmeged/raccoon:latest $1 --skip-health-check -c \"$COOKIE_MOD\" --ignored-response-codes \"301,302,400,401,403,404,503,504\"\n"
   ]
  },
  {
   "cell_type": "markdown",
   "id": "6078eb74",
   "metadata": {
    "tags": [
     "raises-exception"
    ]
   },
   "source": [
    "## ffuf (directory brute)\n"
   ]
  },
  {
   "cell_type": "code",
   "execution_count": null,
   "id": "19bb27ed",
   "metadata": {
    "tags": [
     "raises-exception"
    ]
   },
   "outputs": [],
   "source": [
    "!echo {target_scheme}{ffuf_directory_brute}\n",
    "!time ffuf -b \"$cookies\" -r -s -ac -sf -of all -mc 200,204,301,302,307,405,500 -w /home/user/git/wordlists/SecLists/Discovery/Web-Content/raft-large-directories.txt -u {target_scheme}{ffuf_directory_brute} -od tools/ffuf_directory\n",
    "!echo \"`find tools/ffuf_directory -type f | wc -l` responses worth investigating..\"\n",
    "!find tools/ffuf_directory -type f -exec grep -hE 'GET |^HTTP/' {} \\; -exec echo \\;\n"
   ]
  },
  {
   "cell_type": "markdown",
   "id": "f2b21885",
   "metadata": {
    "tags": [
     "raises-exception"
    ]
   },
   "source": [
    "## dnsenum"
   ]
  },
  {
   "cell_type": "code",
   "execution_count": null,
   "id": "5a6531c6",
   "metadata": {
    "tags": [
     "raises-exception"
    ]
   },
   "outputs": [],
   "source": [
    "%%bash -s \"$subdomain_recon\" \"$top_target\"\n",
    "\n",
    "if [[ \"$1\" == \"1\" ]]; then\n",
    "    time docker run --rm guidelacour/dnsenum ./dnsenum.pl $2 --file dns.txt\n",
    "else\n",
    "    echo \"Subdomain scans have been disabled.\"\n",
    "fi\n"
   ]
  },
  {
   "cell_type": "markdown",
   "id": "48c83809",
   "metadata": {
    "tags": [
     "raises-exception"
    ]
   },
   "source": [
    "## domain_analyzer"
   ]
  },
  {
   "cell_type": "code",
   "execution_count": null,
   "id": "a29f979c",
   "metadata": {
    "tags": [
     "raises-exception"
    ]
   },
   "outputs": [],
   "source": [
    "!docker run --rm -it verovaleros/domain_analyzer:python2.7 /domain_analyzer/domain_analyzer.py -d {target}\n"
   ]
  },
  {
   "cell_type": "markdown",
   "id": "319c496a",
   "metadata": {
    "tags": [
     "raises-exception"
    ]
   },
   "source": [
    "## FinalRecon"
   ]
  },
  {
   "cell_type": "code",
   "execution_count": null,
   "id": "99fd1999",
   "metadata": {
    "tags": [
     "raises-exception"
    ]
   },
   "outputs": [],
   "source": [
    "!time docker run --rm -v \"`pwd`/tools/finalrecon:/root/.local/share/finalrecon/dumps/\" thewhiteh4t/finalrecon {target_url} --full\n"
   ]
  },
  {
   "cell_type": "code",
   "execution_count": null,
   "id": "339cea52",
   "metadata": {
    "tags": [
     "raises-exception"
    ]
   },
   "outputs": [],
   "source": [
    "!find \"`pwd`/tools/finalrecon/\" -name \"*.txt\" -exec cat {} \\;\n"
   ]
  },
  {
   "cell_type": "markdown",
   "id": "e4bbec23",
   "metadata": {
    "tags": [
     "raises-exception"
    ]
   },
   "source": [
    "## Nettacker"
   ]
  },
  {
   "cell_type": "code",
   "execution_count": null,
   "id": "d1906096",
   "metadata": {
    "tags": [
     "raises-exception"
    ]
   },
   "outputs": [],
   "source": [
    "!time docker run --rm -v \"`pwd`/tools/nettacker:/usr/src/owaspnettacker/.data/results/\" nettacker python3 ./nettacker.py -m all -i {target_url}\n"
   ]
  },
  {
   "cell_type": "code",
   "execution_count": null,
   "id": "ed0c15b5",
   "metadata": {
    "tags": [
     "raises-exception"
    ]
   },
   "outputs": [],
   "source": [
    "!echo \"Full Nettacker results in file://`pwd`/tools/nettacker\"\n"
   ]
  },
  {
   "cell_type": "markdown",
   "id": "d3baa36b",
   "metadata": {
    "tags": [
     "raises-exception"
    ]
   },
   "source": [
    "## Arachni"
   ]
  },
  {
   "cell_type": "code",
   "execution_count": null,
   "id": "3b9f7a13",
   "metadata": {
    "tags": [
     "raises-exception"
    ]
   },
   "outputs": [],
   "source": [
    "!time docker run --rm --net host -v \"`pwd`/tools/arachni:/mnt\" arachni/arachni:latest /usr/local/arachni/bin/arachni --http-cookie-string \"$cookies\" --timeout \"0:30:0\" --output-only-positives --report-save-path /mnt {target_url}\n"
   ]
  },
  {
   "cell_type": "code",
   "execution_count": null,
   "id": "98a9cd06",
   "metadata": {
    "tags": [
     "raises-exception"
    ]
   },
   "outputs": [],
   "source": [
    "!time docker run --rm --net host -v \"`pwd`/tools/arachni:/mnt\" arachni/arachni:latest find /mnt -type f -exec /usr/local/arachni/bin/arachni_reporter --reporter html:outfile=/mnt/arachni.zip {} \\;\n"
   ]
  },
  {
   "cell_type": "code",
   "execution_count": null,
   "id": "1f4dc43e",
   "metadata": {
    "tags": [
     "raises-exception"
    ]
   },
   "outputs": [],
   "source": [
    "!sudo chown user:users tools/arachni/arachni.zip\n",
    "!unzip -o tools/arachni/arachni.zip -d tools/arachni/html_report\n"
   ]
  },
  {
   "cell_type": "code",
   "execution_count": null,
   "id": "a2a620b1",
   "metadata": {
    "tags": [
     "raises-exception"
    ]
   },
   "outputs": [],
   "source": [
    "!echo Results in file://`pwd`/tools/arachni/html_report/index.html\n"
   ]
  },
  {
   "cell_type": "markdown",
   "id": "80e123f2",
   "metadata": {
    "tags": [
     "raises-exception"
    ]
   },
   "source": [
    "## Nikto"
   ]
  },
  {
   "cell_type": "code",
   "execution_count": null,
   "id": "373e4673",
   "metadata": {
    "tags": [
     "raises-exception"
    ]
   },
   "outputs": [],
   "source": [
    "!time docker run --rm --net=host -v \"`pwd`/tools/nikto:/mnt/\" sullo/nikto -ask No -nointeractive -Format json -output /mnt/nikto -h {target_url}\n"
   ]
  },
  {
   "cell_type": "markdown",
   "id": "da973a26",
   "metadata": {
    "tags": [
     "raises-exception"
    ]
   },
   "source": [
    "## dirsearch"
   ]
  },
  {
   "cell_type": "code",
   "execution_count": null,
   "id": "8698a906",
   "metadata": {
    "tags": [
     "raises-exception"
    ]
   },
   "outputs": [],
   "source": [
    "!time docker run --rm secsi/dirsearch --cookie=\"$cookies\" -i 100-199,200-299 -q --no-color -F -u {target_url}\n"
   ]
  },
  {
   "cell_type": "markdown",
   "id": "6318c562",
   "metadata": {
    "tags": [
     "raises-exception"
    ]
   },
   "source": [
    "# Manual"
   ]
  },
  {
   "cell_type": "markdown",
   "id": "785a85ce",
   "metadata": {
    "tags": [
     "raises-exception"
    ]
   },
   "source": [
    "## Nessus"
   ]
  },
  {
   "cell_type": "markdown",
   "id": "fd152178",
   "metadata": {
    "tags": [
     "raises-exception"
    ]
   },
   "source": [
    "Check .zsh_history\n"
   ]
  },
  {
   "cell_type": "markdown",
   "id": "831dded0",
   "metadata": {
    "tags": [
     "raises-exception"
    ]
   },
   "source": [
    "## reNgine"
   ]
  },
  {
   "cell_type": "code",
   "execution_count": null,
   "id": "a34596a5",
   "metadata": {
    "tags": [
     "raises-exception"
    ]
   },
   "outputs": [],
   "source": [
    "!echo d-rengine\n"
   ]
  },
  {
   "cell_type": "markdown",
   "id": "f84fa665",
   "metadata": {
    "tags": [
     "raises-exception"
    ]
   },
   "source": [
    "https://localhost:8020/"
   ]
  },
  {
   "cell_type": "markdown",
   "id": "f7f2817b",
   "metadata": {
    "tags": [
     "raises-exception"
    ]
   },
   "source": [
    "## Spiderfoot"
   ]
  },
  {
   "cell_type": "markdown",
   "id": "51a017dc",
   "metadata": {
    "tags": [
     "raises-exception"
    ]
   },
   "source": [
    "http://localhost:8060/"
   ]
  },
  {
   "cell_type": "markdown",
   "id": "1f1dd966",
   "metadata": {
    "tags": [
     "raises-exception"
    ]
   },
   "source": [
    "## OpenVAS"
   ]
  },
  {
   "cell_type": "markdown",
   "id": "85ede640",
   "metadata": {
    "tags": [
     "raises-exception"
    ]
   },
   "source": [
    "https://localhost:8030/login/login.html (admin / admin)"
   ]
  },
  {
   "cell_type": "markdown",
   "id": "b9924d6f",
   "metadata": {
    "tags": [
     "raises-exception"
    ]
   },
   "source": [
    "## sn1per"
   ]
  },
  {
   "cell_type": "markdown",
   "id": "2e516c53",
   "metadata": {
    "tags": [
     "raises-exception"
    ]
   },
   "source": [
    "Not run automatically because of large output and slow scan time"
   ]
  },
  {
   "cell_type": "code",
   "execution_count": null,
   "id": "f5d2a8dd",
   "metadata": {
    "tags": [
     "raises-exception"
    ]
   },
   "outputs": [],
   "source": [
    "!echo docker run -v \\\"`pwd`/tools/sn1per:/usr/share/sniper/loot/workspace/\\\" --rm -it xer0dayz/sn1per sniper -t {target}\n"
   ]
  },
  {
   "cell_type": "code",
   "execution_count": null,
   "id": "a763925c",
   "metadata": {
    "tags": [
     "raises-exception"
    ]
   },
   "outputs": [],
   "source": [
    "!echo find \\\"$PWD/tools/sn1per/\"*\"/output\\\" -type f -exec cat {} \\\\\\;\n"
   ]
  },
  {
   "cell_type": "markdown",
   "id": "dbe26b2c",
   "metadata": {
    "tags": [
     "raises-exception"
    ]
   },
   "source": [
    "# Notify"
   ]
  },
  {
   "cell_type": "code",
   "execution_count": null,
   "id": "9a03c1a8",
   "metadata": {
    "tags": [
     "raises-exception"
    ]
   },
   "outputs": [],
   "source": [
    "!/home/user/git/maxos/scripts/telegram_notify.sh -a -m \"PT Web Assessment complete for {target}.\"\n"
   ]
  },
  {
   "cell_type": "markdown",
   "id": "2e1ba49c",
   "metadata": {
    "tags": [
     "raises-exception"
    ]
   },
   "source": [
    "# End Time"
   ]
  },
  {
   "cell_type": "code",
   "execution_count": null,
   "id": "a5f7b13f",
   "metadata": {
    "tags": [
     "raises-exception"
    ]
   },
   "outputs": [],
   "source": [
    "!date\n"
   ]
  }
 ],
 "metadata": {
  "kernelspec": {
   "display_name": "Python 3",
   "language": "python",
   "name": "python3"
  },
  "language_info": {
   "codemirror_mode": {
    "name": "ipython",
    "version": 3
   },
   "file_extension": ".py",
   "mimetype": "text/x-python",
   "name": "python",
   "nbconvert_exporter": "python",
   "pygments_lexer": "ipython3",
   "version": "3.10.6"
  }
 },
 "nbformat": 4,
 "nbformat_minor": 5
}

{
 "cells": [
  {
   "cell_type": "markdown",
   "id": "10fb4f7c",
   "metadata": {
    "tags": [
     "raises-exception"
    ]
   },
   "source": [
    "# Fast IP Range Assessment\n",
    "- Author: Aidan Marlin\n",
    "- Date: 20220715\n",
    "- Version: 1.5\n",
    "- Description: Jupyter Notebook to automate the execution of key infrastructure scans"
   ]
  },
  {
   "cell_type": "code",
   "execution_count": null,
   "id": "5b06862e",
   "metadata": {
    "tags": [
     "raises-exception"
    ]
   },
   "outputs": [],
   "source": [
    "import socket\n",
    "import os\n",
    "\n",
    "###\n",
    "### Change these variables if necessary\n",
    "###\n",
    "### Specify range/IP like 192.168.0.0/24 or 192.168.0.1/32\n",
    "ip_range = \"192.168.0.0/24\"\n",
    "vpn = True\n",
    "\n",
    "# Check this before running rest of notebook\n",
    "router_ip = os.popen('ip r | grep default | choose 2').read().rstrip()\n",
    "router_mac = os.popen(\"arp -n | grep \\\"\" + router_ip + \" \\\" | choose 2\").read().rstrip()\n",
    "\n",
    "if vpn == True:\n",
    "    interface = os.popen('nmcli connection show --active | grep -E \"tun|tap|wireguard\" | choose 0').read().rstrip()\n",
    "else:\n",
    "    interface = os.popen('ip r | grep default | choose 4').read().rstrip()\n",
    "\n",
    "###\n",
    "### No need to modify from here\n",
    "###\n",
    "\n",
    "os.environ[\"PATH\"] = os.environ[\"PATH\"] + \":/run/current-system/sw/bin\"\n",
    "\n",
    "!mkdir -p tools/masscan\n",
    "!mkdir -p tools/nmap\n",
    "!mkdir -p tools/puppeteer\n",
    "\n",
    "def read_file(location):\n",
    "    try:\n",
    "        with open(location) as f:\n",
    "            text = f.read()\n",
    "            return text\n",
    "    except:\n",
    "        return False\n",
    "\n",
    "# Local network\n",
    "print(\"Router IP: \" + router_ip)\n",
    "print(\"Router MAC: \" + router_mac)\n",
    "print(\"Interface: \" + interface)\n"
   ]
  },
  {
   "cell_type": "markdown",
   "id": "5b05b273",
   "metadata": {
    "tags": [
     "raises-exception"
    ]
   },
   "source": [
    "# Target"
   ]
  },
  {
   "cell_type": "code",
   "execution_count": null,
   "id": "d085f9e6",
   "metadata": {
    "tags": [
     "raises-exception"
    ]
   },
   "outputs": [],
   "source": [
    "print(ip_range)\n"
   ]
  },
  {
   "cell_type": "markdown",
   "id": "db3a3b53",
   "metadata": {
    "tags": [
     "raises-exception"
    ]
   },
   "source": [
    "# Pentester Details"
   ]
  },
  {
   "cell_type": "markdown",
   "id": "a28cd36d",
   "metadata": {
    "tags": [
     "raises-exception"
    ]
   },
   "source": [
    "## IP Address"
   ]
  },
  {
   "cell_type": "code",
   "execution_count": null,
   "id": "10bfd9cf",
   "metadata": {
    "tags": [
     "raises-exception"
    ]
   },
   "outputs": [],
   "source": [
    "!curl https://ifconfig.me/\n"
   ]
  },
  {
   "cell_type": "markdown",
   "id": "dd1d9f0a",
   "metadata": {
    "tags": [
     "raises-exception"
    ]
   },
   "source": [
    "## Start Time"
   ]
  },
  {
   "cell_type": "code",
   "execution_count": null,
   "id": "6b46d6fb",
   "metadata": {
    "tags": [
     "raises-exception"
    ]
   },
   "outputs": [],
   "source": [
    "!date\n"
   ]
  },
  {
   "cell_type": "markdown",
   "id": "df6dc4e3",
   "metadata": {
    "tags": [
     "raises-exception"
    ]
   },
   "source": [
    "## Interface Info"
   ]
  },
  {
   "cell_type": "code",
   "execution_count": null,
   "id": "92ffd624",
   "metadata": {
    "tags": [
     "raises-exception"
    ]
   },
   "outputs": [],
   "source": [
    "!ip a\n"
   ]
  },
  {
   "cell_type": "markdown",
   "id": "b261f854",
   "metadata": {
    "tags": [
     "raises-exception"
    ]
   },
   "source": [
    "# Discovery"
   ]
  },
  {
   "cell_type": "markdown",
   "id": "204a41c0",
   "metadata": {
    "tags": [
     "raises-exception"
    ]
   },
   "source": [
    "## Ping Scan"
   ]
  },
  {
   "cell_type": "code",
   "execution_count": null,
   "id": "b3d82cc3",
   "metadata": {
    "tags": [
     "raises-exception"
    ]
   },
   "outputs": [],
   "source": [
    "!time nmap -sn -T5 {ip_range} -v0 -oA tools/nmap/internal_ping_scan\n"
   ]
  },
  {
   "cell_type": "code",
   "execution_count": null,
   "id": "1953c20a",
   "metadata": {
    "tags": [
     "raises-exception"
    ]
   },
   "outputs": [],
   "source": [
    "print(read_file(\"tools/nmap/internal_ping_scan.gnmap\"))\n"
   ]
  },
  {
   "cell_type": "markdown",
   "id": "5b91e5ab",
   "metadata": {
    "tags": [
     "raises-exception"
    ]
   },
   "source": [
    "## Fast TCP Port Scan"
   ]
  },
  {
   "cell_type": "code",
   "execution_count": null,
   "id": "3ba3e38a",
   "metadata": {
    "tags": [
     "raises-exception"
    ]
   },
   "outputs": [],
   "source": [
    "!sudo time masscan --top-ports 100 --interface {interface} --rate=1000 -oB tools/masscan/tcp_top_100.bin {ip_range}\n"
   ]
  },
  {
   "cell_type": "code",
   "execution_count": null,
   "id": "8a9814ee",
   "metadata": {
    "tags": [
     "raises-exception"
    ]
   },
   "outputs": [],
   "source": [
    "!sudo masscan --readscan tools/masscan/tcp_top_100.bin -oG tools/masscan/tcp_top_100.grep\n",
    "!sudo masscan --readscan tools/masscan/tcp_top_100.bin -oJ tools/masscan/tcp_top_100.json\n",
    "!sudo masscan --readscan tools/masscan/tcp_top_100.bin -oX tools/masscan/tcp_top_100.xml\n"
   ]
  },
  {
   "cell_type": "code",
   "execution_count": null,
   "id": "28727919",
   "metadata": {
    "tags": [
     "raises-exception"
    ]
   },
   "outputs": [],
   "source": [
    "print(read_file(\"tools/masscan/tcp_top_100.grep\"))\n"
   ]
  },
  {
   "cell_type": "markdown",
   "id": "06d3fe7f",
   "metadata": {
    "tags": [
     "raises-exception"
    ]
   },
   "source": [
    "## Fast SCTP"
   ]
  },
  {
   "cell_type": "code",
   "execution_count": null,
   "id": "27a2f01b",
   "metadata": {
    "tags": [
     "raises-exception"
    ]
   },
   "outputs": [],
   "source": [
    "!sudo time nmap -T 4 -sY -sV -sC -F -oA tools/nmap/sctp_fast {ip_range}\n"
   ]
  },
  {
   "cell_type": "code",
   "execution_count": null,
   "id": "f24dfbaa",
   "metadata": {
    "tags": [
     "raises-exception"
    ]
   },
   "outputs": [],
   "source": [
    "print(read_file(\"tools/nmap/sctp_fast.grep\"))\n"
   ]
  },
  {
   "cell_type": "markdown",
   "id": "deb4e8cb",
   "metadata": {
    "tags": [
     "raises-exception"
    ]
   },
   "source": [
    "## Fast UDP Port Scan"
   ]
  },
  {
   "cell_type": "code",
   "execution_count": null,
   "id": "21d2e742",
   "metadata": {
    "tags": [
     "raises-exception"
    ]
   },
   "outputs": [],
   "source": [
    "!sudo time nmap -T5 -sU --top-ports 100 -v0 {ip_range} -oA tools/nmap/udp_top_100\n"
   ]
  },
  {
   "cell_type": "code",
   "execution_count": null,
   "id": "ae6de562",
   "metadata": {
    "tags": [
     "raises-exception"
    ]
   },
   "outputs": [],
   "source": [
    "print(read_file(\"tools/nmap/udp_top_100.gnmap\"))\n"
   ]
  },
  {
   "cell_type": "markdown",
   "id": "f76cf3bc",
   "metadata": {
    "tags": [
     "raises-exception"
    ]
   },
   "source": [
    "## ivre"
   ]
  },
  {
   "cell_type": "code",
   "execution_count": null,
   "id": "bf75e47f",
   "metadata": {
    "tags": [
     "raises-exception"
    ]
   },
   "outputs": [],
   "source": [
    "%%bash\n",
    "sed -i \"s#- \\\"80:80\\\"#- \\\"127.0.0.1:8010:80\\\"#g\" ${HOME}/git/pentest-tools/ivre/docker/docker-compose.yml\n",
    "docker-compose -f /home/user/git/pentest-tools/ivre/docker/docker-compose.yml up -d 2>&1 > /dev/null\n"
   ]
  },
  {
   "cell_type": "code",
   "execution_count": null,
   "id": "136ba15d",
   "metadata": {
    "tags": [
     "raises-exception"
    ]
   },
   "outputs": [],
   "source": [
    "ivre_container_id = os.popen(\"docker ps -f 'name=ivreclient' --format '{{.ID}}'\").read().rstrip()\n",
    "print(ivre_container_id)\n"
   ]
  },
  {
   "cell_type": "code",
   "execution_count": null,
   "id": "89247413",
   "metadata": {
    "tags": [
     "raises-exception"
    ]
   },
   "outputs": [],
   "source": [
    "!time docker exec -t $ivre_container_id ivre runscans --network $ip_range 2>&1 > /dev/null\n"
   ]
  },
  {
   "cell_type": "code",
   "execution_count": null,
   "id": "801a54fd",
   "metadata": {
    "tags": [
     "raises-exception"
    ]
   },
   "outputs": [],
   "source": [
    "!time docker exec -t $ivre_container_id ivre getwebdata\n"
   ]
  },
  {
   "cell_type": "code",
   "execution_count": null,
   "id": "f92677d8",
   "metadata": {
    "tags": [
     "raises-exception"
    ]
   },
   "outputs": [],
   "source": [
    "!time docker exec -t $ivre_container_id ivre scan2db -r /scans\n"
   ]
  },
  {
   "cell_type": "code",
   "execution_count": null,
   "id": "4640723f",
   "metadata": {
    "tags": [
     "raises-exception"
    ]
   },
   "outputs": [],
   "source": [
    "!time docker exec -t $ivre_container_id ivre db2view\n"
   ]
  },
  {
   "cell_type": "markdown",
   "id": "1260b69e",
   "metadata": {
    "tags": [
     "raises-exception"
    ]
   },
   "source": [
    "Results at http://localhost:8010/"
   ]
  },
  {
   "cell_type": "markdown",
   "id": "fdc9b4af",
   "metadata": {
    "tags": [
     "raises-exception"
    ]
   },
   "source": [
    "## Searchsploit"
   ]
  },
  {
   "cell_type": "code",
   "execution_count": null,
   "id": "83ed3530",
   "metadata": {
    "tags": [
     "raises-exception"
    ]
   },
   "outputs": [],
   "source": [
    "!time docker run --rm -v \"$PWD:/mnt\" booyaabes/kali-linux-full searchsploit -v --nmap /mnt/tools/nmap/udp_top_100.xml 2>/dev/null\n"
   ]
  },
  {
   "cell_type": "markdown",
   "id": "4b206256",
   "metadata": {
    "tags": [
     "raises-exception"
    ]
   },
   "source": [
    "## AutoPWN-Suite"
   ]
  },
  {
   "cell_type": "code",
   "execution_count": null,
   "id": "130e228d",
   "metadata": {
    "tags": [
     "raises-exception"
    ]
   },
   "outputs": [],
   "source": [
    "nist_api_key = read_file(\"/etc/api-nist\")\n",
    "nist_api_key = nist_api_key.rstrip()\n",
    "\n",
    "if nist_api_key == False:\n",
    "    nist_api_key = 0\n",
    "\n",
    "!echo sudo time python /home/user/git/pentest-tools/AutoPWN-Suite/autopwn.py -y -a {nist_api_key} -t {ip_range}\n"
   ]
  },
  {
   "cell_type": "markdown",
   "id": "29e14421",
   "metadata": {
    "tags": [
     "raises-exception"
    ]
   },
   "source": [
    "## Notify"
   ]
  },
  {
   "cell_type": "code",
   "execution_count": null,
   "id": "bbde1d76",
   "metadata": {
    "tags": [
     "raises-exception"
    ]
   },
   "outputs": [],
   "source": [
    "!/home/user/git/maxos/scripts/telegram_notify.sh -a -m \"PT Fast IP Range complete for {ip_range}.\"\n"
   ]
  },
  {
   "cell_type": "markdown",
   "id": "2e1ba49c",
   "metadata": {
    "tags": [
     "raises-exception"
    ]
   },
   "source": [
    "# End Time"
   ]
  },
  {
   "cell_type": "code",
   "execution_count": null,
   "id": "a5f7b13f",
   "metadata": {
    "tags": [
     "raises-exception"
    ]
   },
   "outputs": [],
   "source": [
    "!date\n"
   ]
  }
 ],
 "metadata": {
  "kernelspec": {
   "display_name": "Python 3",
   "language": "python",
   "name": "python3"
  },
  "language_info": {
   "codemirror_mode": {
    "name": "ipython",
    "version": 3
   },
   "file_extension": ".py",
   "mimetype": "text/x-python",
   "name": "python",
   "nbconvert_exporter": "python",
   "pygments_lexer": "ipython3",
   "version": "3.10.4"
  }
 },
 "nbformat": 4,
 "nbformat_minor": 5
}

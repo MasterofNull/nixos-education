{
 "cells": [
  {
   "cell_type": "code",
   "execution_count": 4,
   "id": "5b06862e",
   "metadata": {
      "tags": [
         "raises-exception"
      ]
   },
   "outputs": [],
   "source": [
    "import os\n",
    "!export TARGET_FILE=\"/home/user/target\"\n",
    "target_file = \"/home/user/target\""
   ]
  }
 ],
 "metadata": {
  "kernelspec": {
   "display_name": "Python 3",
   "language": "python",
   "name": "python3"
  },
  "language_info": {
   "codemirror_mode": {
    "name": "ipython",
    "version": 3
   },
   "file_extension": ".py",
   "mimetype": "text/x-python",
   "name": "python",
   "nbconvert_exporter": "python",
   "pygments_lexer": "ipython3",
   "version": "3.9.13"
  }
 },
 "nbformat": 4,
 "nbformat_minor": 5
}

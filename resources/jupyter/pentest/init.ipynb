{
 "cells": [
  {
   "cell_type": "code",
   "execution_count": 1,
   "id": "4cdfbeba",
   "metadata": {},
   "outputs": [
    {
     "data": {
      "text/plain": [
       "['../PT 202206 Test/.ipynb_checkpoints/PT Infrastructure Assessment-checkpoint.ipynb',\n",
       " '../PT 202206 Test/.ipynb_checkpoints/init-checkpoint.ipynb',\n",
       " '../PT 202206 Test/PT Build Review.ipynb',\n",
       " '../PT 202206 Test/PT Web Assessment.ipynb',\n",
       " '../PT 202206 Test/PT Infrastructure Assessment.ipynb',\n",
       " '../PT 202206 Test/init.ipynb',\n",
       " '../PT 202206 Test/PT Wireless Assessment.ipynb',\n",
       " '../PT 202206 Test/PT Password Review.ipynb',\n",
       " '../PT 202206 Test/PT Vulnerability Assessment.ipynb',\n",
       " '../PT 202206 Test/PT Firewall Review.ipynb',\n",
       " '../PT 202206 Test/PT Mobile Assessment.ipynb',\n",
       " '../PT 202206 Test/PT VLAN Assessment.ipynb',\n",
       " '../PT 202206 Test/PT Social Engineering.ipynb']"
      ]
     },
     "execution_count": 1,
     "metadata": {},
     "output_type": "execute_result"
    }
   ],
   "source": [
    "\n",
    "client_name = \"PT 202206 Test\"\n",
    "\n",
    "from distutils.dir_util import copy_tree\n",
    "copy_tree(\"../base\", \"../\" + client_name)\n"
   ]
  },
  {
   "cell_type": "code",
   "execution_count": null,
   "id": "c188383e",
   "metadata": {},
   "outputs": [],
   "source": []
  }
 ],
 "metadata": {
  "kernelspec": {
   "display_name": "Python 3",
   "language": "python",
   "name": "python3"
  },
  "language_info": {
   "codemirror_mode": {
    "name": "ipython",
    "version": 3
   },
   "file_extension": ".py",
   "mimetype": "text/x-python",
   "name": "python",
   "nbconvert_exporter": "python",
   "pygments_lexer": "ipython3",
   "version": "3.9.13"
  }
 },
 "nbformat": 4,
 "nbformat_minor": 5
}

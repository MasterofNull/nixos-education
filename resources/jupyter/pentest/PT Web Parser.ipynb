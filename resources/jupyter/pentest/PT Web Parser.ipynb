{
 "cells": [
  {
   "cell_type": "markdown",
   "id": "eca86b33",
   "metadata": {
    "tags": [
     "raises-exception"
    ]
   },
   "source": [
    "# Web Parser\n",
    "- Author: Aidan Marlin\n",
    "- Date: 20220630\n",
    "- Version: 1.0\n",
    "- Description: Jupyter Notebook to distil results from web scans"
   ]
  },
  {
   "cell_type": "code",
   "execution_count": null,
   "id": "658f66a7",
   "metadata": {
    "tags": [
     "raises-exception"
    ]
   },
   "outputs": [],
   "source": [
    "target = \"www.bing.com\"\n",
    "top_target = \"bing.com\"\n",
    "\n",
    "###\n",
    "### No need to modify from here\n",
    "###\n",
    "import socket\n",
    "import os\n",
    "\n",
    "os.environ[\"PATH\"] = os.environ[\"PATH\"] + \":/run/current-system/sw/bin\"\n",
    "\n",
    "target_ip = socket.gethostbyname(target) \n",
    "http_target = \"http://\" + target\n",
    "https_target = \"https://\" + target\n",
    "\n",
    "!mkdir -p \"`pwd`/parsed\"\n",
    "!pwd"
   ]
  },
  {
   "cell_type": "markdown",
   "id": "5b05b273",
   "metadata": {
    "tags": [
     "raises-exception"
    ]
   },
   "source": [
    "# Target"
   ]
  },
  {
   "cell_type": "code",
   "execution_count": null,
   "id": "d085f9e6",
   "metadata": {
    "tags": [
     "raises-exception"
    ]
   },
   "outputs": [],
   "source": [
    "print(target)\n",
    "print(target_ip)\n"
   ]
  },
  {
   "cell_type": "markdown",
   "id": "dd1d9f0a",
   "metadata": {
    "tags": [
     "raises-exception"
    ]
   },
   "source": [
    "# DNS"
   ]
  },
  {
   "cell_type": "code",
   "execution_count": null,
   "id": "999c1dc2",
   "metadata": {
    "tags": [
     "raises-exception"
    ]
   },
   "outputs": [],
   "source": [
    "!cat \"`pwd`/tools/amass/results.txt\" | jq -r '.name' > \"`pwd`/parsed/dns_amass\"\n",
    "!cat \"`pwd`/tools/ffuf_subdomain/\"* | grep -E \"^Host: \" | choose 1 > \"`pwd`/parsed/dns_ffuf\"\n",
    "!cat \"`pwd`/tools/finalrecon/\"*\".txt\" | grep \" IN \" | choose 0 | sort | uniq | sed 's/\\.$//g' > \"`pwd`/parsed/dns_finalrecon\"\n",
    "!cat \"`pwd`/tools/knockpy/\"*\".json\" | grep -E '^    \"' | grep -v '_meta\"' | choose 0 | tr -d '\":' | sort | uniq > \"`pwd`/parsed/dns_knockpy\"\n",
    "!cat \"`pwd`/tools/subfinder/results.txt\" | jq -r \".host\" | sort | uniq > \"`pwd`/parsed/dns_subfinder\"\n",
    "!cat \"`pwd`/tools/sudomy/\"*\"/\"*\"/subdomain.txt\" \"`pwd`/tools/sudomy/\"*\"/\"*\"/subdomain.txt\" | sort | uniq > \"`pwd`/parsed/dns_sudomy\"\n",
    "!cat \"`pwd`/tools/puredns/\"*\".txt\" | sort | uniq > \"`pwd`/parsed/dns_puredns\"\n",
    "\n",
    "!cat \"`pwd`/parsed/dns_\"* | sort | uniq > \"`pwd`/parsed/dns.txt\"\n",
    "!cat \"`pwd`/parsed/dns.txt\"\n"
   ]
  },
  {
   "cell_type": "code",
   "execution_count": null,
   "id": "e01e9220",
   "metadata": {
    "tags": [
     "raises-exception"
    ]
   },
   "outputs": [],
   "source": [
    "!time docker run -v \"`pwd`:/mnt\" --rm secsi/massdns /mnt/parsed/dns.txt -r /mnt/tools/resolver.txt -o S -q\n"
   ]
  },
  {
   "cell_type": "markdown",
   "id": "c67aec0e",
   "metadata": {
    "tags": [
     "raises-exception"
    ]
   },
   "source": [
    "# httpx"
   ]
  },
  {
   "cell_type": "code",
   "execution_count": null,
   "id": "1dd1a55d",
   "metadata": {
    "tags": [
     "raises-exception"
    ]
   },
   "outputs": [],
   "source": [
    "!cat \"`pwd`/parsed/dns_\"* | sort | uniq | httpx -silent -fr -ip -status-code -title -tech-detect -asn\n"
   ]
  },
  {
   "cell_type": "markdown",
   "id": "52290324",
   "metadata": {
    "tags": [
     "raises-exception"
    ]
   },
   "source": [
    "# Hosts"
   ]
  },
  {
   "cell_type": "markdown",
   "id": "21d633a7",
   "metadata": {
    "tags": [
     "raises-exception"
    ]
   },
   "source": [
    "## Alive"
   ]
  },
  {
   "cell_type": "code",
   "execution_count": null,
   "id": "f86f0756",
   "metadata": {
    "tags": [
     "raises-exception"
    ]
   },
   "outputs": [],
   "source": [
    "!cat \"`pwd`/tools/nmap/internal_ping_scan.gnmap\" | grep \": Up\" | choose 1 | sort | uniq\n"
   ]
  },
  {
   "cell_type": "markdown",
   "id": "e6fc2f14",
   "metadata": {
    "tags": [
     "raises-exception"
    ]
   },
   "source": [
    "## TCP Ports"
   ]
  },
  {
   "cell_type": "code",
   "execution_count": null,
   "id": "278c1ec9",
   "metadata": {
    "tags": [
     "raises-exception"
    ]
   },
   "outputs": [],
   "source": [
    "!cat \"`pwd`/tools/masscan/tcp_all.grep\" | grep -E \"^Timestamp\" | choose 3 6 | sed 's#/.*##g' | sed 's/ /:/g' | sort | uniq\n"
   ]
  },
  {
   "cell_type": "markdown",
   "id": "445f8cb9",
   "metadata": {
    "tags": [
     "raises-exception"
    ]
   },
   "source": [
    "## UDP Ports"
   ]
  },
  {
   "cell_type": "code",
   "execution_count": null,
   "id": "e485d376",
   "metadata": {
    "tags": [
     "raises-exception"
    ]
   },
   "outputs": [],
   "source": [
    "!cat \"`pwd`/tools/nmap/udp_common.gnmap\" | grep \"open\" | sort | uniq\n"
   ]
  },
  {
   "cell_type": "markdown",
   "id": "71541ad5",
   "metadata": {
    "tags": [
     "raises-exception"
    ]
   },
   "source": [
    "## TLS / SSL"
   ]
  },
  {
   "cell_type": "code",
   "execution_count": null,
   "id": "dbce1987",
   "metadata": {
    "tags": [
     "raises-exception"
    ]
   },
   "outputs": [],
   "source": [
    "!cat \"`pwd`/tools/testssl/\"*\".csv\" | grep -Ev '\"INFO\"|\"OK\"|\"WARN\"' | choose -f '\"' 0 | grep -Ev \"^id$\"\n"
   ]
  },
  {
   "cell_type": "markdown",
   "id": "0fe0595a",
   "metadata": {
    "tags": [
     "raises-exception"
    ]
   },
   "source": [
    "# URLs"
   ]
  },
  {
   "cell_type": "markdown",
   "id": "7a8971a8",
   "metadata": {
    "tags": [
     "raises-exception"
    ]
   },
   "source": [
    "## JavaScript"
   ]
  },
  {
   "cell_type": "code",
   "execution_count": null,
   "id": "2e05b2be",
   "metadata": {
    "tags": [
     "raises-exception"
    ]
   },
   "outputs": [],
   "source": [
    "!cat \"`pwd`/tools/photon/\"*\"/\"*\".txt\" | grep -i \"\\.js\" | sed 's/\\?.*//g' | sort | uniq > \"`pwd`/parsed/js_photon\"\n",
    "!cat \"`pwd`/tools/finalrecon/\"*\".txt\" | grep -i \"\\.js\" | sed 's/\\?.*//g' | sort | uniq > \"`pwd`/parsed/js_finalrecon\"\n",
    "!cat \"`pwd`/tools/sudomy/\"*\"/\"*\"/interest/\"*\"-js.out\" | grep -i \"\\.js\" | sed 's/\\?.*//g' | sort | uniq > \"`pwd`/parsed/js_finalrecon\"\n",
    "!cat \"`pwd`/tools/gospider/\"* | grep -E \"^\\[javascript\\]\" | choose -f '- ' 1 | sed 's/\\?.*//g' | sort | uniq > \"`pwd`/parsed/js_gospider\"\n",
    "!cat \"`pwd`/tools/hakrawler/results.txt\" | grep -E \"\\[script\\]\" | choose 1 | grep -i \"\\.js\" | sed 's/\\?.*//g' | sort | uniq > \"`pwd`/parsed/js_hakrawler\"\n",
    "\n",
    "!cat \"`pwd`/parsed/js_\"* | sort | uniq\n"
   ]
  },
  {
   "cell_type": "markdown",
   "id": "4191125a",
   "metadata": {
    "tags": [
     "raises-exception"
    ]
   },
   "source": [
    "## CSS"
   ]
  },
  {
   "cell_type": "code",
   "execution_count": null,
   "id": "34daa8a2",
   "metadata": {
    "tags": [
     "raises-exception"
    ]
   },
   "outputs": [],
   "source": [
    "!cat \"`pwd`/tools/finalrecon/\"*\".txt\" | grep -E \"\\.css\" | sed 's/\\?.*//g' | sort | uniq > \"`pwd`/parsed/css_finalrecon\"\n",
    "!cat \"`pwd`/parsed/css_\"*\n"
   ]
  },
  {
   "cell_type": "markdown",
   "id": "241e7823",
   "metadata": {
    "tags": [
     "raises-exception"
    ]
   },
   "source": [
    "# Nikto Issues"
   ]
  },
  {
   "cell_type": "code",
   "execution_count": null,
   "id": "692dc53f",
   "metadata": {
    "tags": [
     "raises-exception"
    ]
   },
   "outputs": [],
   "source": [
    "!cat \"`pwd`/tools/nikto/nikto\" | jq | grep msg | choose -f \": \" 1 | tr -d '\"' | sort | uniq\n"
   ]
  },
  {
   "cell_type": "markdown",
   "id": "909e25bb",
   "metadata": {
    "tags": [
     "raises-exception"
    ]
   },
   "source": [
    "# Notify"
   ]
  },
  {
   "cell_type": "code",
   "execution_count": null,
   "id": "9a03c1a8",
   "metadata": {
    "tags": [
     "raises-exception"
    ]
   },
   "outputs": [],
   "source": [
    "!/home/user/git/maxos/scripts/telegram_notify.sh -a -m \"PT Web Parser complete for {target}.\"\n"
   ]
  },
  {
   "cell_type": "markdown",
   "id": "2e1ba49c",
   "metadata": {
    "tags": [
     "raises-exception"
    ]
   },
   "source": [
    "# End Time"
   ]
  },
  {
   "cell_type": "code",
   "execution_count": null,
   "id": "a5f7b13f",
   "metadata": {
    "tags": [
     "raises-exception"
    ]
   },
   "outputs": [],
   "source": [
    "!date\n"
   ]
  }
 ],
 "metadata": {
  "kernelspec": {
   "display_name": "Python 3",
   "language": "python",
   "name": "python3"
  },
  "language_info": {
   "codemirror_mode": {
    "name": "ipython",
    "version": 3
   },
   "file_extension": ".py",
   "mimetype": "text/x-python",
   "name": "python",
   "nbconvert_exporter": "python",
   "pygments_lexer": "ipython3",
   "version": "3.10.4"
  }
 },
 "nbformat": 4,
 "nbformat_minor": 5
}

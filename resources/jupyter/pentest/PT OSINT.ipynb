{
 "cells": [
  {
   "cell_type": "markdown",
   "id": "eca86b33",
   "metadata": {
    "tags": [
     "raises-exception"
    ]
   },
   "source": [
    "# OSINT\n",
    "- Author: Aidan Marlin\n",
    "- Date: 20220825\n",
    "- Version: 0.2\n",
    "- Description: Jupyter Notebook to automate the execution of OSINT tasks"
   ]
  },
  {
   "cell_type": "code",
   "execution_count": null,
   "id": "edc9d507",
   "metadata": {
    "tags": [
     "raises-exception"
    ]
   },
   "outputs": [],
   "source": [
    "target = \"rascal999\"\n",
    "#target_number = \"441242 221491\"\n",
    "target_number = False\n",
    "#target_email = \"rascal999@gmail.com\"\n",
    "target_email = False\n",
    "\n",
    "###\n",
    "### No need to modify from here\n",
    "###\n",
    "import socket\n",
    "import subprocess\n",
    "import os\n",
    "\n",
    "#!mkdir -p tools/sherlock\n",
    "\n",
    "def read_file(location):\n",
    "    try:\n",
    "        with open(location) as f:\n",
    "            text = f.read()\n",
    "            return text\n",
    "    except:\n",
    "        return False\n",
    "\n",
    "!pwd\n"
   ]
  },
  {
   "cell_type": "markdown",
   "id": "5b05b273",
   "metadata": {
    "tags": [
     "raises-exception"
    ]
   },
   "source": [
    "# Target"
   ]
  },
  {
   "cell_type": "code",
   "execution_count": null,
   "id": "d085f9e6",
   "metadata": {
    "tags": [
     "raises-exception"
    ]
   },
   "outputs": [],
   "source": [
    "print(target)\n"
   ]
  },
  {
   "cell_type": "markdown",
   "id": "db3a3b53",
   "metadata": {
    "tags": [
     "raises-exception"
    ]
   },
   "source": [
    "# Pentester Details"
   ]
  },
  {
   "cell_type": "markdown",
   "id": "b78ed5e0",
   "metadata": {
    "tags": [
     "raises-exception"
    ]
   },
   "source": [
    "## IP Address"
   ]
  },
  {
   "cell_type": "code",
   "execution_count": null,
   "id": "319062ed",
   "metadata": {
    "tags": [
     "raises-exception"
    ]
   },
   "outputs": [],
   "source": [
    "!curl https://ifconfig.me/\n"
   ]
  },
  {
   "cell_type": "markdown",
   "id": "dd1d9f0a",
   "metadata": {
    "tags": [
     "raises-exception"
    ]
   },
   "source": [
    "## Start Time"
   ]
  },
  {
   "cell_type": "code",
   "execution_count": null,
   "id": "6b46d6fb",
   "metadata": {
    "tags": [
     "raises-exception"
    ]
   },
   "outputs": [],
   "source": [
    "!date\n"
   ]
  },
  {
   "cell_type": "markdown",
   "id": "df6dc4e3",
   "metadata": {
    "tags": [
     "raises-exception"
    ]
   },
   "source": [
    "## Interface Info"
   ]
  },
  {
   "cell_type": "code",
   "execution_count": null,
   "id": "92ffd624",
   "metadata": {
    "tags": [
     "raises-exception"
    ]
   },
   "outputs": [],
   "source": [
    "!ip a\n"
   ]
  },
  {
   "cell_type": "markdown",
   "id": "b261f854",
   "metadata": {
    "tags": [
     "raises-exception"
    ]
   },
   "source": [
    "# Scans"
   ]
  },
  {
   "cell_type": "markdown",
   "id": "c0bfe75c",
   "metadata": {
    "tags": [
     "raises-exception"
    ]
   },
   "source": [
    "## SpiderFoot"
   ]
  },
  {
   "cell_type": "code",
   "execution_count": null,
   "id": "2a0876ac",
   "metadata": {
    "tags": [
     "raises-exception"
    ]
   },
   "outputs": [],
   "source": [
    "%%bash -s \"$target\"\n",
    "time curl -i -s -k -X $'POST' \\\n",
    "    --data-binary $\"scanname=$1&scantarget=%22$1%22&usecase=all&modulelist=&typelist=\" \\\n",
    "    $\"http://localhost:8060/startscan\"\n"
   ]
  },
  {
   "cell_type": "markdown",
   "id": "116de393",
   "metadata": {
    "tags": [
     "raises-exception"
    ]
   },
   "source": [
    "## social-analyzer"
   ]
  },
  {
   "cell_type": "code",
   "execution_count": null,
   "id": "4334f8a4",
   "metadata": {
    "tags": [
     "raises-exception"
    ]
   },
   "outputs": [],
   "source": [
    "!time docker run --rm --entrypoint \"node\" -it social-analyzer app.js --username {target} --extract --trim | grep -Ev \"\\[Checking\\]|\\[Waiting to retry\\]|text.*:\"\n"
   ]
  },
  {
   "cell_type": "markdown",
   "id": "0b3a8bb9",
   "metadata": {
    "tags": [
     "raises-exception"
    ]
   },
   "source": [
    "## GHunt"
   ]
  },
  {
   "cell_type": "code",
   "execution_count": null,
   "id": "de82cb9e",
   "metadata": {
    "tags": [
     "raises-exception"
    ]
   },
   "outputs": [],
   "source": [
    "if target_email != False:\n",
    "    !time docker run --rm -v ghunt-resources:/usr/src/app/resources -ti ghcr.io/mxrch/ghunt ghunt.py email {target_email}\n"
   ]
  },
  {
   "cell_type": "markdown",
   "id": "98245309",
   "metadata": {
    "tags": [
     "raises-exception"
    ]
   },
   "source": [
    "## phoneinfoga"
   ]
  },
  {
   "cell_type": "code",
   "execution_count": null,
   "id": "5d4fa37b",
   "metadata": {
    "tags": [
     "raises-exception"
    ]
   },
   "outputs": [],
   "source": [
    "if target_number != False:\n",
    "    !time docker run --rm sundowndev/phoneinfoga scan -n {target_number}\n"
   ]
  },
  {
   "cell_type": "markdown",
   "id": "b0c3285c",
   "metadata": {
    "tags": [
     "raises-exception"
    ]
   },
   "source": [
    "## sherlock"
   ]
  },
  {
   "cell_type": "code",
   "execution_count": null,
   "id": "268193a5",
   "metadata": {
    "tags": [
     "raises-exception"
    ]
   },
   "outputs": [],
   "source": [
    "!time docker run --rm theyahya/sherlock {target}\n"
   ]
  },
  {
   "cell_type": "markdown",
   "id": "6318c562",
   "metadata": {
    "tags": [
     "raises-exception"
    ]
   },
   "source": [
    "# Manual"
   ]
  },
  {
   "cell_type": "markdown",
   "id": "f7f2817b",
   "metadata": {
    "tags": [
     "raises-exception"
    ]
   },
   "source": [
    "## IntelTechniques"
   ]
  },
  {
   "cell_type": "markdown",
   "id": "51a017dc",
   "metadata": {
    "tags": [
     "raises-exception"
    ]
   },
   "source": [
    "http://resources.home:10070/nixos/resources/www.inteltechniques.com_20220705/tools/Search.html\n"
   ]
  },
  {
   "cell_type": "markdown",
   "id": "04685675",
   "metadata": {
    "tags": [
     "raises-exception"
    ]
   },
   "source": [
    "## OSINT Tools"
   ]
  },
  {
   "cell_type": "markdown",
   "id": "7227f79d",
   "metadata": {
    "tags": [
     "raises-exception"
    ]
   },
   "source": [
    "https://www.osinttechniques.com/osint-tools.html\n"
   ]
  },
  {
   "cell_type": "markdown",
   "id": "51f22802",
   "metadata": {},
   "source": [
    "## Carrot2"
   ]
  },
  {
   "cell_type": "markdown",
   "id": "fd24800b",
   "metadata": {},
   "source": [
    "https://search.carrot2.org/#/search/web\n"
   ]
  },
  {
   "cell_type": "markdown",
   "id": "26b42eda",
   "metadata": {},
   "source": [
    "## SpiderFoot"
   ]
  },
  {
   "cell_type": "markdown",
   "id": "0810dee9",
   "metadata": {},
   "source": [
    "http://localhost:8060/\n"
   ]
  },
  {
   "cell_type": "markdown",
   "id": "dbe26b2c",
   "metadata": {
    "tags": [
     "raises-exception"
    ]
   },
   "source": [
    "# Notify"
   ]
  },
  {
   "cell_type": "code",
   "execution_count": null,
   "id": "9a03c1a8",
   "metadata": {
    "tags": [
     "raises-exception"
    ]
   },
   "outputs": [],
   "source": [
    "!/home/user/git/maxos/scripts/telegram_notify.sh -a -m \"PT OSINT Assessment complete for {target}.\"\n"
   ]
  },
  {
   "cell_type": "markdown",
   "id": "2e1ba49c",
   "metadata": {
    "tags": [
     "raises-exception"
    ]
   },
   "source": [
    "# End Time"
   ]
  },
  {
   "cell_type": "code",
   "execution_count": null,
   "id": "a5f7b13f",
   "metadata": {
    "tags": [
     "raises-exception"
    ]
   },
   "outputs": [],
   "source": [
    "!date\n"
   ]
  }
 ],
 "metadata": {
  "kernelspec": {
   "display_name": "Python 3",
   "language": "python",
   "name": "python3"
  },
  "language_info": {
   "codemirror_mode": {
    "name": "ipython",
    "version": 3
   },
   "file_extension": ".py",
   "mimetype": "text/x-python",
   "name": "python",
   "nbconvert_exporter": "python",
   "pygments_lexer": "ipython3",
   "version": "3.10.4"
  }
 },
 "nbformat": 4,
 "nbformat_minor": 5
}

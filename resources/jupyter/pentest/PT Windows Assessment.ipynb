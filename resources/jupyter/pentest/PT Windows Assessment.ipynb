{
 "cells": [
  {
   "cell_type": "markdown",
   "id": "10fb4f7c",
   "metadata": {
    "tags": [
     "raises-exception"
    ]
   },
   "source": [
    "# Fast IP Range Assessment\n",
    "- Author: Aidan Marlin\n",
    "- Date: 20221010\n",
    "- Version: 1.0\n",
    "- Description: Jupyter Notebook to automate the execution of key Windows assessment scans"
   ]
  },
  {
   "cell_type": "code",
   "execution_count": null,
   "id": "5b06862e",
   "metadata": {
    "tags": [
     "raises-exception"
    ]
   },
   "outputs": [],
   "source": [
    "import socket\n",
    "import os\n",
    "\n",
    "###\n",
    "### Change these variables if necessary\n",
    "###\n",
    "### Specify IP like 192.168.0.1\n",
    "target_ip = \"192.168.0.1\"\n",
    "vpn = True\n",
    "\n",
    "# Check this before running rest of notebook\n",
    "router_ip = os.popen('ip r | grep default | choose 2').read().rstrip()\n",
    "router_mac = os.popen(\"arp -n | grep \\\"\" + router_ip + \" \\\" | choose 2\").read().rstrip()\n",
    "\n",
    "if vpn == True:\n",
    "    interface = os.popen('nmcli connection show --active | grep -E \"tun|tap|wireguard\" | choose 0').read().rstrip()\n",
    "else:\n",
    "    interface = os.popen('ip r | grep default | choose 4').read().rstrip()\n",
    "\n",
    "###\n",
    "### No need to modify from here\n",
    "###\n",
    "\n",
    "os.environ[\"PATH\"] = os.environ[\"PATH\"] + \":/run/current-system/sw/bin\"\n",
    "\n",
    "!mkdir -p tools/masscan\n",
    "!mkdir -p tools/nmap\n",
    "!mkdir -p tools/puppeteer\n",
    "\n",
    "def read_file(location):\n",
    "    try:\n",
    "        with open(location) as f:\n",
    "            text = f.read()\n",
    "            return text\n",
    "    except:\n",
    "        return False\n",
    "\n",
    "# Local network\n",
    "print(\"Router IP: \" + router_ip)\n",
    "print(\"Router MAC: \" + router_mac)\n",
    "print(\"Interface: \" + interface)\n"
   ]
  },
  {
   "cell_type": "markdown",
   "id": "5b05b273",
   "metadata": {
    "tags": [
     "raises-exception"
    ]
   },
   "source": [
    "# Target"
   ]
  },
  {
   "cell_type": "code",
   "execution_count": null,
   "id": "d085f9e6",
   "metadata": {
    "tags": [
     "raises-exception"
    ]
   },
   "outputs": [],
   "source": [
    "print(target_ip)\n"
   ]
  },
  {
   "cell_type": "markdown",
   "id": "db3a3b53",
   "metadata": {
    "tags": [
     "raises-exception"
    ]
   },
   "source": [
    "# Pentester Details"
   ]
  },
  {
   "cell_type": "markdown",
   "id": "a28cd36d",
   "metadata": {
    "tags": [
     "raises-exception"
    ]
   },
   "source": [
    "## IP Address"
   ]
  },
  {
   "cell_type": "code",
   "execution_count": null,
   "id": "10bfd9cf",
   "metadata": {
    "tags": [
     "raises-exception"
    ]
   },
   "outputs": [],
   "source": [
    "!curl https://ifconfig.me/\n"
   ]
  },
  {
   "cell_type": "markdown",
   "id": "dd1d9f0a",
   "metadata": {
    "tags": [
     "raises-exception"
    ]
   },
   "source": [
    "## Start Time"
   ]
  },
  {
   "cell_type": "code",
   "execution_count": null,
   "id": "6b46d6fb",
   "metadata": {
    "tags": [
     "raises-exception"
    ]
   },
   "outputs": [],
   "source": [
    "!date\n"
   ]
  },
  {
   "cell_type": "markdown",
   "id": "df6dc4e3",
   "metadata": {
    "tags": [
     "raises-exception"
    ]
   },
   "source": [
    "## Interface Info"
   ]
  },
  {
   "cell_type": "code",
   "execution_count": null,
   "id": "92ffd624",
   "metadata": {
    "tags": [
     "raises-exception"
    ]
   },
   "outputs": [],
   "source": [
    "!ip a\n"
   ]
  },
  {
   "cell_type": "markdown",
   "id": "b261f854",
   "metadata": {
    "tags": [
     "raises-exception"
    ]
   },
   "source": [
    "# Discovery"
   ]
  },
  {
   "cell_type": "markdown",
   "id": "204a41c0",
   "metadata": {
    "tags": [
     "raises-exception"
    ]
   },
   "source": [
    "## Ping Scan"
   ]
  },
  {
   "cell_type": "code",
   "execution_count": null,
   "id": "b3d82cc3",
   "metadata": {
    "tags": [
     "raises-exception"
    ]
   },
   "outputs": [],
   "source": [
    "!time nmap -sn -T5 {target_ip} -v0 -oA tools/nmap/internal_ping_scan\n"
   ]
  },
  {
   "cell_type": "code",
   "execution_count": null,
   "id": "1953c20a",
   "metadata": {
    "tags": [
     "raises-exception"
    ]
   },
   "outputs": [],
   "source": [
    "print(read_file(\"tools/nmap/internal_ping_scan.gnmap\"))\n"
   ]
  },
  {
   "cell_type": "markdown",
   "id": "5b91e5ab",
   "metadata": {
    "tags": [
     "raises-exception"
    ]
   },
   "source": [
    "## Fast TCP Port Scan"
   ]
  },
  {
   "cell_type": "code",
   "execution_count": null,
   "id": "3ba3e38a",
   "metadata": {
    "tags": [
     "raises-exception"
    ]
   },
   "outputs": [],
   "source": [
    "!sudo time masscan --top-ports 100 --interface {interface} --rate=1000 -oB tools/masscan/tcp_top_100.bin {target_ip}/32\n"
   ]
  },
  {
   "cell_type": "code",
   "execution_count": null,
   "id": "8a9814ee",
   "metadata": {
    "tags": [
     "raises-exception"
    ]
   },
   "outputs": [],
   "source": [
    "!sudo masscan --readscan tools/masscan/tcp_top_100.bin -oG tools/masscan/tcp_top_100.grep\n",
    "!sudo masscan --readscan tools/masscan/tcp_top_100.bin -oJ tools/masscan/tcp_top_100.json\n",
    "!sudo masscan --readscan tools/masscan/tcp_top_100.bin -oX tools/masscan/tcp_top_100.xml\n"
   ]
  },
  {
   "cell_type": "code",
   "execution_count": null,
   "id": "28727919",
   "metadata": {
    "tags": [
     "raises-exception"
    ]
   },
   "outputs": [],
   "source": [
    "print(read_file(\"tools/masscan/tcp_top_100.grep\"))\n"
   ]
  },
  {
   "cell_type": "markdown",
   "id": "deb4e8cb",
   "metadata": {
    "tags": [
     "raises-exception"
    ]
   },
   "source": [
    "## nbtscan"
   ]
  },
  {
   "cell_type": "code",
   "execution_count": null,
   "id": "12b03a57",
   "metadata": {
    "tags": [
     "raises-exception"
    ]
   },
   "outputs": [],
   "source": [
    "!time docker run -it --rm booyaabes/kali-linux-full \"/usr/bin/nbtscan\" {target_ip}\n"
   ]
  },
  {
   "cell_type": "markdown",
   "id": "9094a761",
   "metadata": {
    "tags": [
     "raises-exception"
    ]
   },
   "source": [
    "## impacket (lookupsid.py)"
   ]
  },
  {
   "cell_type": "code",
   "execution_count": null,
   "id": "e47b1c6a",
   "metadata": {
    "tags": [
     "raises-exception"
    ]
   },
   "outputs": [],
   "source": [
    "%%bash -s \"$target_ip\"\n",
    "time docker run --rm rflathers/impacket lookupsid.py -no-pass anonymous@$1\n"
   ]
  },
  {
   "cell_type": "markdown",
   "id": "fdc9b4af",
   "metadata": {
    "tags": [
     "raises-exception"
    ]
   },
   "source": [
    "## crackmapexec"
   ]
  },
  {
   "cell_type": "code",
   "execution_count": null,
   "id": "3bc605e5",
   "metadata": {
    "tags": [
     "raises-exception"
    ]
   },
   "outputs": [],
   "source": [
    "!time docker run -it --rm booyaabes/kali-linux-full \"/usr/bin/crackmapexec\" smb {target_ip}\n"
   ]
  },
  {
   "cell_type": "markdown",
   "id": "f76cf3bc",
   "metadata": {
    "tags": [
     "raises-exception"
    ]
   },
   "source": [
    "## smbmap"
   ]
  },
  {
   "cell_type": "code",
   "execution_count": null,
   "id": "9cd3af25",
   "metadata": {
    "tags": [
     "raises-exception"
    ]
   },
   "outputs": [],
   "source": [
    "!time docker run -it --rm booyaabes/kali-linux-full \"/usr/bin/smbmap\" -u anonymous -H {target_ip}\n"
   ]
  },
  {
   "cell_type": "markdown",
   "id": "06d3fe7f",
   "metadata": {
    "tags": [
     "raises-exception"
    ]
   },
   "source": [
    "## nmblookup"
   ]
  },
  {
   "cell_type": "code",
   "execution_count": null,
   "id": "070b4689",
   "metadata": {
    "tags": [
     "raises-exception"
    ]
   },
   "outputs": [],
   "source": [
    "!time docker run -it --rm booyaabes/kali-linux-full \"/usr/bin/nmblookup\" -A {target_ip}\n"
   ]
  },
  {
   "cell_type": "markdown",
   "id": "a2349e6a",
   "metadata": {
    "tags": [
     "raises-exception"
    ]
   },
   "source": [
    "## nmap (smb-vuln*)"
   ]
  },
  {
   "cell_type": "code",
   "execution_count": null,
   "id": "12d159cd",
   "metadata": {
    "tags": [
     "raises-exception"
    ]
   },
   "outputs": [],
   "source": [
    "!time nmap --script smb-vuln\\* {target_ip}\n"
   ]
  },
  {
   "cell_type": "markdown",
   "id": "4b206256",
   "metadata": {
    "tags": [
     "raises-exception"
    ]
   },
   "source": [
    "## enum4linux"
   ]
  },
  {
   "cell_type": "code",
   "execution_count": null,
   "id": "46850009",
   "metadata": {
    "tags": [
     "raises-exception"
    ]
   },
   "outputs": [],
   "source": [
    "!time enum4linux {target_ip}\n"
   ]
  },
  {
   "cell_type": "markdown",
   "id": "29e14421",
   "metadata": {
    "tags": [
     "raises-exception"
    ]
   },
   "source": [
    "## Notify"
   ]
  },
  {
   "cell_type": "code",
   "execution_count": null,
   "id": "bbde1d76",
   "metadata": {
    "tags": [
     "raises-exception"
    ]
   },
   "outputs": [],
   "source": [
    "!/home/user/git/maxos/scripts/telegram_notify.sh -a -m \"PT Windows Assessment complete for {target_ip}.\"\n"
   ]
  },
  {
   "cell_type": "markdown",
   "id": "2e1ba49c",
   "metadata": {
    "tags": [
     "raises-exception"
    ]
   },
   "source": [
    "# End Time"
   ]
  },
  {
   "cell_type": "code",
   "execution_count": null,
   "id": "a5f7b13f",
   "metadata": {
    "tags": [
     "raises-exception"
    ]
   },
   "outputs": [],
   "source": [
    "!date\n"
   ]
  }
 ],
 "metadata": {
  "kernelspec": {
   "display_name": "Python 3",
   "language": "python",
   "name": "python3"
  },
  "language_info": {
   "codemirror_mode": {
    "name": "ipython",
    "version": 3
   },
   "file_extension": ".py",
   "mimetype": "text/x-python",
   "name": "python",
   "nbconvert_exporter": "python",
   "pygments_lexer": "ipython3",
   "version": "3.10.6"
  }
 },
 "nbformat": 4,
 "nbformat_minor": 5
}
